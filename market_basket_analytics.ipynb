{
 "cells": [
  {
   "cell_type": "markdown",
   "metadata": {},
   "source": [
    "### Lab 3 project\n",
    "\n",
    "#### 1st part: Download training and test files to local folder"
   ]
  },
  {
   "cell_type": "code",
   "execution_count": 3,
   "metadata": {
    "collapsed": true
   },
   "outputs": [],
   "source": [
    "import requests,openpyxl,sqlite3\n",
    "\n",
    "url = \"http://kevincrook.com/utd/market_basket_training.txt\"\n",
    "\n",
    "r = requests.get(url)\n",
    "type(r.content)\n",
    "f = open(\"market_basket_training.txt\",\"wb\")\n",
    "f.write(r.content)\n",
    "\n",
    "\n",
    "url = \"http://kevincrook.com/utd/market_basket_test.txt\"\n",
    "\n",
    "r = requests.get(url)\n",
    "type(r.content)\n",
    "f = open(\"market_basket_test\",\"wb\")\n",
    "f.write(r.content)\n",
    "\n",
    "f.close()"
   ]
  },
  {
   "cell_type": "markdown",
   "metadata": {
    "collapsed": true
   },
   "source": [
    "#### 2nd part: Import data into sqllite3 table and aggregate raw data to generate stat results"
   ]
  },
  {
   "cell_type": "code",
   "execution_count": 1,
   "metadata": {
    "collapsed": true
   },
   "outputs": [],
   "source": [
    "import csv, sqlite3\n",
    "\n",
    "sqlite_file = 'staging.db'    # name of the sqlite database file\n",
    "\n",
    "con = sqlite3.connect(sqlite_file)\n",
    "c = con.cursor()\n",
    "\n",
    "#Create Tbls I need\n",
    "tbl_nm = 'tblTraining'\n",
    "c.execute('CREATE TABLE {tn} (T_NUM TEXT, Activity TEXT) '.format(tn=tbl_nm))\n",
    "\n",
    "tbl_nm = 'tblTraning_Ref_Count'\n",
    "c.execute('CREATE TABLE {tn} (DISTINCT_ACTIVITY TEXT, COUNT INTEGER) '.format(tn=tbl_nm))\n",
    "\n",
    "con.commit()\n",
    "\n",
    "#Import data section\n",
    "tbl_nm = 'tblTraining'\n",
    "with open(\"market_basket_training.txt\", mode='r', encoding=\"cp1252\") as f:\n",
    "    reader = csv.reader(f, delimiter=\"\\n\")\n",
    "    c.executemany('INSERT INTO {tn} (Activity) VALUES (?)'.format(tn=tbl_nm), reader)\n",
    "\n",
    "c.execute('UPDATE {tn} SET Activity = replace(Activity,\",\", \"\")'.format(tn=tbl_nm))\n",
    "c.execute('UPDATE {tn} SET Activity = substr(Activity, instr(Activity, \"P\")) '.format(tn=tbl_nm))\n",
    "con.commit()\n",
    "\n",
    "#Create stat in tblTraning_Ref_Count\n",
    "c.execute('INSERT INTO tblTraning_Ref_Count (DISTINCT_ACTIVITY, COUNT) SELECT Activity, COUNT(*) FROM {tn} GROUP BY Activity ORDER BY Activity'.format(tn = tbl_nm))\n",
    "con.commit()\n"
   ]
  },
  {
   "cell_type": "markdown",
   "metadata": {},
   "source": [
    "#### 3rd part: Load test data into sqllite3 table"
   ]
  },
  {
   "cell_type": "code",
   "execution_count": 8,
   "metadata": {
    "collapsed": false
   },
   "outputs": [],
   "source": [
    "import sqlite3\n",
    "sqlite_file = 'staging.db'    # name of the sqlite database file\n",
    "con = sqlite3.connect(sqlite_file)\n",
    "c = con.cursor()\n",
    "\n",
    "tbl_nm = 'tblTraining' \n",
    "\n",
    "c.execute('DELETE FROM {tn}'.format(tn=tbl_nm))\n",
    "con.commit()\n",
    "\n",
    "with open(\"market_basket_test.txt\", mode='r', encoding=\"cp1252\") as f:\n",
    "    reader = csv.reader(f, delimiter=\"\\n\")\n",
    "    c.executemany('INSERT INTO {tn} (Activity, T_NUM) VALUES (?, \"\")'.format(tn=tbl_nm), reader)\n",
    "\n",
    "c.execute('UPDATE {tn} SET T_NUM = substr(Activity, 0,4) '.format(tn=tbl_nm))   \n",
    "c.execute('UPDATE {tn} SET Activity = substr(Activity, instr(Activity, \"P\")) '.format(tn=tbl_nm))\n",
    "\n",
    "con.commit()\n",
    "\n",
    "\n",
    "#Check data in tables----PLEASE IGNORE THIS PART\n",
    "#c.execute('SELECT Activity, T_NUM FROM tblTraining')\n",
    "#all_rows = c.fetchall()\n",
    "#print(all_rows)"
   ]
  },
  {
   "cell_type": "markdown",
   "metadata": {},
   "source": [
    "#### 4th part: Generate recommend product from test"
   ]
  },
  {
   "cell_type": "code",
   "execution_count": 14,
   "metadata": {
    "collapsed": false
   },
   "outputs": [
    {
     "name": "stdout",
     "output_type": "stream",
     "text": [
      "IF YOU SAW THIS, IT MEANS WE'RE DONE, GO TO SAME FOLDER TO CHECK OUT FILE!HAPPY HOLIDAYS!\n"
     ]
    }
   ],
   "source": [
    "import sqlite3\n",
    "\n",
    "def replaceNull(x):\n",
    "  if x is None:\n",
    "    return ''\n",
    "  else:\n",
    "    return x\n",
    "\n",
    "#Get it ready\n",
    "recommend_file = open(\"market_basket_recommendations.txt\", \"w\")\n",
    "\n",
    "#This comes from requirement, \"The company only has 10 products\"\n",
    "product_list = ['P01','P02','P03','P04','P05','P06','P07','P08','P09','P10']\n",
    "product_missing = []\n",
    "    \n",
    "sqlite_file = 'staging.db'    # name of the sqlite database file\n",
    "conn = sqlite3.connect(sqlite_file)\n",
    "c = conn.cursor()\n",
    "\n",
    "#Generate product_missing list\n",
    "for i, s in enumerate(product_list):\n",
    "    c.execute('SELECT CASE WHEN SUM(COUNT) > 1 THEN \"GOOD\" ELSE \"BAD\" END FROM {tb} WHERE instr(DISTINCT_ACTIVITY, \"{value}\") > 0 '.\\\n",
    "          format(tb='tblTraning_Ref_Count', value = s))\n",
    "    count_row = c.fetchall()\n",
    "\n",
    "    for r, row in enumerate(count_row):\n",
    "        if str(row[0]) == \"BAD\":\n",
    "            product_missing.append(s)\n",
    "\n",
    "#print(product_missing)\n",
    "\n",
    "tbl_nm = 'tblTraining'\n",
    "c.execute('SELECT Activity, T_NUM FROM {tb} '.format(tb=tbl_nm))\n",
    "all_rows = c.fetchall()\n",
    "\n",
    "\n",
    "my_test = \"\"\n",
    "my_test1 = \"AND instr(DISTINCT_ACTIVITY, \\\"\"\n",
    "my_test2 = \"\\\") > 0 \"\n",
    "\n",
    "\n",
    "for r, row in enumerate(all_rows):\n",
    "    \n",
    "    my_test = \"\"\n",
    "    remove_product = \"\"\n",
    "    P_CNT = row[0].count('P') + 1 # I need to get P02P04 total P count, then add one to include one recommend product\n",
    "    \n",
    "    for x in row[0].split(','):\n",
    "        if x.strip() not in product_missing:\n",
    "            my_test = my_test + my_test1 + x.strip() + my_test2\n",
    "        else:\n",
    "            P_CNT = P_CNT -1\n",
    "            remove_product = x.strip()\n",
    "\n",
    "    stmt = \"SELECT MAX(COUNT), DISTINCT_ACTIVITY FROM tblTraning_Ref_Count WHERE length(DISTINCT_ACTIVITY) - length(replace(DISTINCT_ACTIVITY, \\'P\\', \\'\\')) = \"+ str(P_CNT) +\" \" + my_test\n",
    "    c.execute(stmt)\n",
    "    \n",
    "    result_rows = c.fetchall()\n",
    "    \n",
    "    recommend_product = \"\"\n",
    "    #Do clean up and only leave recommended product code\n",
    "    for y in replaceNull(result_rows[0][1]).split('P'):\n",
    "        if y != '':\n",
    "            #print(\"P\"+y)\n",
    "            if row[0].count(\"P\"+y) == 0:\n",
    "                recommend_product = \"P\"+y\n",
    "                \n",
    "\n",
    "    #if (remove_product != \"\"):\n",
    "        #print(\"We remove product:\",remove_product)\n",
    "    recommend_file.write(row[1]+\",\"+recommend_product+\"\\n\")\n",
    "    \n",
    "\n",
    "conn.commit()\n",
    "recommend_file.close()\n",
    "\n",
    "print(\"IF YOU SAW THIS, IT MEANS WE'RE DONE, GO TO SAME FOLDER TO CHECK OUT FILE!HAPPY HOLIDAYS!\")"
   ]
  },
  {
   "cell_type": "code",
   "execution_count": null,
   "metadata": {
    "collapsed": true
   },
   "outputs": [],
   "source": []
  }
 ],
 "metadata": {
  "anaconda-cloud": {},
  "kernelspec": {
   "display_name": "Python [default]",
   "language": "python",
   "name": "python3"
  },
  "language_info": {
   "codemirror_mode": {
    "name": "ipython",
    "version": 3
   },
   "file_extension": ".py",
   "mimetype": "text/x-python",
   "name": "python",
   "nbconvert_exporter": "python",
   "pygments_lexer": "ipython3",
   "version": "3.5.2"
  }
 },
 "nbformat": 4,
 "nbformat_minor": 2
}
