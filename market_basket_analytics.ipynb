{
 "cells": [
  {
   "cell_type": "markdown",
   "metadata": {},
   "source": [
    "###This is lab 3"
   ]
  },
  {
   "cell_type": "code",
   "execution_count": 3,
   "metadata": {
    "collapsed": true
   },
   "outputs": [],
   "source": [
    "import requests,openpyxl,sqlite3\n",
    "\n",
    "\n",
    "url = \"http://kevincrook.com/utd/market_basket_training.txt\"\n",
    "\n",
    "r = requests.get(url)\n",
    "type(r.content)\n",
    "f = open(\"market_basket_training.txt\",\"wb\")\n",
    "f.write(r.content)\n",
    "\n",
    "\n",
    "url = \"http://kevincrook.com/utd/market_basket_test.txt\"\n",
    "\n",
    "r = requests.get(url)\n",
    "type(r.content)\n",
    "f = open(\"market_basket_test\",\"wb\")\n",
    "f.write(r.content)\n",
    "\n",
    "f.close()"
   ]
  },
  {
   "cell_type": "code",
   "execution_count": null,
   "metadata": {
    "collapsed": true
   },
   "outputs": [],
   "source": [
    "import urllib2\n",
    "for line in urllib2.urlopen(\"http://kevincrook.com/utd/market_basket_training.txt\"):\n",
    "    print line"
   ]
  }
 ],
 "metadata": {
  "kernelspec": {
   "display_name": "Python 3",
   "language": "python",
   "name": "python3"
  },
  "language_info": {
   "codemirror_mode": {
    "name": "ipython",
    "version": 3
   },
   "file_extension": ".py",
   "mimetype": "text/x-python",
   "name": "python",
   "nbconvert_exporter": "python",
   "pygments_lexer": "ipython3",
   "version": "3.4.3"
  }
 },
 "nbformat": 4,
 "nbformat_minor": 2
}
