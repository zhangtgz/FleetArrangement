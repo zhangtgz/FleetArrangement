{
 "cells": [
  {
   "cell_type": "markdown",
   "metadata": {},
   "source": [
    "##This is the cool project Airline Schedule"
   ]
  },
  {
   "cell_type": "markdown",
   "metadata": {},
   "source": [
    "###Construct Graph for routes, Node should have 6, airport with x gates has x Node, each node has ###'Ground_Time' attribute, make it 2 minutes more than min. DAL1 and DAL2 has no edge, same as HOU1,HOU2 and HOU3\n"
   ]
  },
  {
   "cell_type": "markdown",
   "metadata": {},
   "source": [
    "1. 360(600 morning)<=DTM<ATM<=1320(2200 night)\n",
    "\n",
    "2. AUS->DAL  50 Edge_LEN\n",
    "   DAL->AUS  50\n",
    "   AUS->HOU  45\n",
    "   HOU->AUS  45\n",
    "   DAL->HOU  65\n",
    "   HOU->DAL  65\n",
    "\n",
    "3. AUS1  GTM_END - GTM_START >= 25 or GTM_END, GTM_START are 0 \n",
    "   DAL1  GTM_END - GTM_START >= 30\n",
    "   DAL2  GTM_END - GTM_START >= 30\n",
    "   HOU1  GTM_END - GTM_START >= 35\n",
    "   HOU2  GTM_END - GTM_START >= 35\n",
    "   HOU3  GTM_END - GTM_START >= 35\n",
    "\n",
    "4. DTM < GTM_START\n",
    "   ATM > GTM_END\n",
    "\n",
    "5. DTM = ATM + (GTM_END-GTM_START)\n",
    "\n",
    "6. ATM =  DTM + Edge_LEN\n",
    "\n",
    "7. AUS T1\n",
    "   DAL T5\n",
    "   DAL T6\n",
    "   HOU T2\n",
    "   HOU T3\n",
    "   HOU T4"
   ]
  },
  {
   "cell_type": "code",
   "execution_count": 19,
   "metadata": {},
   "outputs": [
    {
     "data": {
      "text/plain": [
       "{'AUS1': 0.6,\n",
       " 'DAL1': 0.5,\n",
       " 'DAL2': 0.5,\n",
       " 'HOU1': 0.6666666666666666,\n",
       " 'HOU2': 0.6666666666666666,\n",
       " 'HOU3': 0.6666666666666666}"
      ]
     },
     "execution_count": 19,
     "metadata": {},
     "output_type": "execute_result"
    }
   ],
   "source": [
    "import networkx as nx\n",
    "\n",
    "routes = nx.Graph()\n",
    "\n",
    "#ground_time as attribute\n",
    "routes.add_node(\"AUS1\", ground_time = 27)\n",
    "routes.add_node(\"DAL1\", ground_time = 32)\n",
    "routes.add_node(\"DAL2\", ground_time = 32)\n",
    "routes.add_node(\"HOU1\", ground_time = 37)\n",
    "routes.add_node(\"HOU2\", ground_time = 37)\n",
    "routes.add_node(\"HOU3\", ground_time = 37)\n",
    "\n",
    "#print(routes.nodes(data=True))\n",
    "#print(routes.node[\"DAL1\"][\"ground_time\"])\n",
    "\n",
    "#fly_time as weight for edge\n",
    "routes.add_edge(\"AUS1\",\"DAL1\", fly_time = 50)\n",
    "routes.add_edge(\"DAL1\",\"AUS1\", fly_time = 50)\n",
    "routes.add_edge(\"AUS1\",\"DAL2\", fly_time = 50)\n",
    "routes.add_edge(\"DAL2\",\"AUS1\", fly_time = 50)\n",
    "\n",
    "routes.add_edge(\"AUS1\",\"HOU1\", fly_time = 45)\n",
    "routes.add_edge(\"HOU1\",\"AUS1\", fly_time = 45)\n",
    "routes.add_edge(\"AUS1\",\"HOU2\", fly_time = 45)\n",
    "routes.add_edge(\"HOU2\",\"AUS1\", fly_time = 45)\n",
    "routes.add_edge(\"AUS1\",\"HOU3\", fly_time = 45)\n",
    "routes.add_edge(\"HOU3\",\"AUS1\", fly_time = 45)\n",
    "\n",
    "routes.add_edge(\"HOU1\",\"DAL1\", fly_time = 65)\n",
    "routes.add_edge(\"DAL1\",\"HOU1\", fly_time = 65)\n",
    "routes.add_edge(\"HOU2\",\"DAL1\", fly_time = 65)\n",
    "routes.add_edge(\"DAL1\",\"HOU2\", fly_time = 65)\n",
    "routes.add_edge(\"HOU3\",\"DAL1\", fly_time = 65)\n",
    "routes.add_edge(\"DAL1\",\"HOU3\", fly_time = 65)\n",
    "\n",
    "routes.add_edge(\"HOU1\",\"DAL2\", fly_time = 65)\n",
    "routes.add_edge(\"DAL2\",\"HOU1\", fly_time = 65)\n",
    "routes.add_edge(\"HOU2\",\"DAL2\", fly_time = 65)\n",
    "routes.add_edge(\"DAL2\",\"HOU2\", fly_time = 65)\n",
    "routes.add_edge(\"HOU3\",\"DAL2\", fly_time = 65)\n",
    "routes.add_edge(\"DAL2\",\"HOU3\", fly_time = 65)\n",
    "\n",
    "#print(routes.edges()[:5])\n",
    "#print(routes.neighbors(\"HOU3\"))\n",
    "#print(routes.degree())\n",
    "\n",
    "nx.clustering(routes)\n"
   ]
  },
  {
   "cell_type": "code",
   "execution_count": 15,
   "metadata": {
    "collapsed": true
   },
   "outputs": [],
   "source": [
    "from pandas import DataFrame\n",
    "\n",
    "Optimal_Schedule = [\n",
    "    {'tail_num':'T1', 'org':'DAL', 'dest':'AUS', 'd_time':360, 'a_time':410},\n",
    "    {'tail_num':'T1', 'org':'AUS', 'dest':'HOU', 'd_time':600, 'a_time':645}\n",
    "]\n",
    "\n",
    "#define minutes to military time\n",
    "def convert_military_time (var): \n",
    "    return var//60 * 100 + var % 60\n",
    "\n",
    "#define\n",
    "def get_var(var):\n",
    "    variable = []\n",
    "    \n",
    "    if var == 'd_time':\n",
    "        for i in Optimal_Schedule:\n",
    "            value = convert_military_time(i[var])      \n",
    "            variable.append(value)\n",
    "    elif var == 'a_time':\n",
    "        for i in Optimal_Schedule:\n",
    "            value = convert_military_time(i[var])      \n",
    "            variable.append(value)\n",
    "    else:\n",
    "        for i in Optimal_Schedule:\n",
    "            value = i[var] \n",
    "            variable.append(value)\n",
    "           \n",
    "    return variable\n",
    "\n",
    "#use function\n",
    "tail_num = get_var('tail_num')\n",
    "org = get_var('org')\n",
    "dest = get_var ('dest')\n",
    "d_time = get_var ('d_time')\n",
    "a_time = get_var ('a_time')\n",
    "\n",
    "data = {'tail_number':tail_num, 'origin':org, 'destination':dest, 'departure_time':d_time, 'arrival_time':a_time}\n",
    "frame = DataFrame(data)\n",
    "frame.to_csv('flight_schedule.csv', mode = 'w', index=False, columns=['tail_number', 'origin', 'destination', 'departure_time','arrival_time'])"
   ]
  },
  {
   "cell_type": "code",
   "execution_count": null,
   "metadata": {
    "collapsed": true
   },
   "outputs": [],
   "source": []
  },
  {
   "cell_type": "code",
   "execution_count": null,
   "metadata": {
    "collapsed": true
   },
   "outputs": [],
   "source": []
  }
 ],
 "metadata": {
  "kernelspec": {
   "display_name": "Python 3",
   "language": "python",
   "name": "python3"
  },
  "language_info": {
   "codemirror_mode": {
    "name": "ipython",
    "version": 3
   },
   "file_extension": ".py",
   "mimetype": "text/x-python",
   "name": "python",
   "nbconvert_exporter": "python",
   "pygments_lexer": "ipython3",
   "version": "3.4.3"
  }
 },
 "nbformat": 4,
 "nbformat_minor": 2
}
